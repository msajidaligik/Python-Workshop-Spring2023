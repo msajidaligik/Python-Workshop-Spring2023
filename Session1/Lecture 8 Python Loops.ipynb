{
 "cells": [
  {
   "cell_type": "code",
   "execution_count": null,
   "id": "56415040",
   "metadata": {},
   "outputs": [],
   "source": [
    "Loops :\n",
    "Loops or iterative statements are the statements which allow repetition of block of code again and again till the condition become false.\n",
    "\n",
    "There are 2 type of loops in Python "
   ]
  },
  {
   "cell_type": "code",
   "execution_count": 1,
   "id": "b95fcb7d",
   "metadata": {},
   "outputs": [
    {
     "name": "stdout",
     "output_type": "stream",
     "text": [
      "\t Loops \n",
      "\n",
      "5 x  1 = 5\n",
      "5 x  2 = 10\n",
      "5 x  3 = 15\n",
      "5 x  4 = 20\n",
      "5 x  5 = 25\n",
      "5 x  6 = 30\n",
      "5 x  7 = 35\n",
      "5 x  8 = 40\n",
      "5 x  9 = 45\n",
      "5 x  10 = 50\n"
     ]
    }
   ],
   "source": [
    "print(\"\\t Loops \\n\")\n",
    "\n",
    "num = 5\n",
    "for a in range(1, 11 ):\n",
    "    print(num, 'x ', a, '=', num* a)"
   ]
  },
  {
   "cell_type": "raw",
   "id": "2f466dad",
   "metadata": {},
   "source": [
    "print(\"\\t Loops \\n\")\n",
    "\n",
    "x = 1\n",
    "while(x<=100):      #while loop\n",
    "    print(x)\n",
    "    x = x+1"
   ]
  }
 ],
 "metadata": {
  "kernelspec": {
   "display_name": "Python 3 (ipykernel)",
   "language": "python",
   "name": "python3"
  },
  "language_info": {
   "codemirror_mode": {
    "name": "ipython",
    "version": 3
   },
   "file_extension": ".py",
   "mimetype": "text/x-python",
   "name": "python",
   "nbconvert_exporter": "python",
   "pygments_lexer": "ipython3",
   "version": "3.11.0"
  }
 },
 "nbformat": 4,
 "nbformat_minor": 5
}
