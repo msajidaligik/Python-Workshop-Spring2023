{
 "cells": [
  {
   "cell_type": "markdown",
   "id": "776a332d",
   "metadata": {},
   "source": [
    "# Python Conditions and If statements\n",
    "\n",
    "## Python supports the usual logical conditions from mathematics:\n",
    "\n",
    "Equals: a == b\n",
    "Not Equals: a != b\n",
    "Less than: a < b\n",
    "Less than or equal to: a <= b\n",
    "Greater than: a > b\n",
    "Greater than or equal to: a >= b\n",
    "These conditions can be used in several ways, most commonly in \"if statements\" and loops.\n",
    "\n",
    "## An \"if statement\" is written by using the if keyword.\n",
    "\n",
    "https://www.w3schools.com/python/python_conditions.asp"
   ]
  },
  {
   "cell_type": "markdown",
   "id": "95a667b1",
   "metadata": {},
   "source": [
    "### So, In conditional statements we have 3 type of statements :\n",
    "\n",
    "if statement\n",
    "if-else statement\n",
    "elif statement\n",
    "if statement – In if statement condition is checked and if the condition is true then body of if statement get executed."
   ]
  },
  {
   "cell_type": "markdown",
   "id": "178ed9ef",
   "metadata": {},
   "source": [
    "# Indentation\n",
    "Python relies on indentation (whitespace at the beginning of a line) to define scope in the code. Other programming languages often use curly-brackets for this purpose."
   ]
  },
  {
   "cell_type": "code",
   "execution_count": 3,
   "id": "ef3684b7",
   "metadata": {},
   "outputs": [
    {
     "name": "stdout",
     "output_type": "stream",
     "text": [
      "\t Conditional Statements \n",
      "\n",
      "Enter any number: 22\n",
      "END!\n"
     ]
    }
   ],
   "source": [
    "print(\"\\t Conditional Statements \\n\")\n",
    "\n",
    "x = int(input(\"Enter any number: \"))\n",
    "if (x>100):\n",
    "    print(\"Number entered is greater than 100\")\n",
    "\n",
    "print(\"END!\")"
   ]
  },
  {
   "cell_type": "markdown",
   "id": "3d7ff3a2",
   "metadata": {},
   "source": [
    "#### if-else statement – In if-else statements condition is checked and if condition is true then block of if statement get executed but if ‘if’ condition is false then block of else statement get executed."
   ]
  },
  {
   "cell_type": "code",
   "execution_count": 2,
   "id": "af71ff66",
   "metadata": {},
   "outputs": [
    {
     "name": "stdout",
     "output_type": "stream",
     "text": [
      "\t Conditional Statements \n",
      "\n",
      "Enter your age: 16\n",
      "You are not eligible to vote\n"
     ]
    }
   ],
   "source": [
    "print(\"\\t Conditional Statements \\n\")\n",
    "\n",
    "age = int(input(\"Enter your age: \"))\n",
    "\n",
    "if (age>=18):\n",
    "    print(\"You are eligible to vote\")\n",
    "\n",
    "else:\n",
    "    print(\"You are not eligible to vote\")"
   ]
  },
  {
   "cell_type": "markdown",
   "id": "ba84d542",
   "metadata": {},
   "source": [
    "#### elif statement – In these type of statements, there are many instances when there is a need to check condition. We use these statements when we have to check many conditions."
   ]
  },
  {
   "cell_type": "code",
   "execution_count": null,
   "id": "89205827",
   "metadata": {},
   "outputs": [
    {
     "name": "stdout",
     "output_type": "stream",
     "text": [
      "\t Conditional Statements \n",
      "\n"
     ]
    }
   ],
   "source": [
    "print(\"\\t Conditional Statements \\n\")\n",
    "\n",
    "x = int(input(\"Enter any number: \"))\n",
    "\n",
    "if (x>50):\n",
    "    print(\"Number is greater than 50\")\n",
    "elif (x>25):\n",
    "    print(\"No. entered is b/w 25-50\")\n",
    "elif (x>0):\n",
    "    print(\"Number entered is between 0-25\")\n",
    "else:\n",
    "    print(\"Enter valid number\")"
   ]
  },
  {
   "cell_type": "code",
   "execution_count": null,
   "id": "52164b88",
   "metadata": {},
   "outputs": [],
   "source": []
  }
 ],
 "metadata": {
  "kernelspec": {
   "display_name": "Python 3 (ipykernel)",
   "language": "python",
   "name": "python3"
  },
  "language_info": {
   "codemirror_mode": {
    "name": "ipython",
    "version": 3
   },
   "file_extension": ".py",
   "mimetype": "text/x-python",
   "name": "python",
   "nbconvert_exporter": "python",
   "pygments_lexer": "ipython3",
   "version": "3.11.0"
  }
 },
 "nbformat": 4,
 "nbformat_minor": 5
}
