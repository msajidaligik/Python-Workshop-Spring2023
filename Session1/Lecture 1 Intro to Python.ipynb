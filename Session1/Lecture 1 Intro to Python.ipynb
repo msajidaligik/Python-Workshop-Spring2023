{
 "cells": [
  {
   "cell_type": "markdown",
   "id": "48409ff6",
   "metadata": {},
   "source": [
    "# **Welcome to Python Workshop**\n",
    "\n",
    "## Session 1\n",
    "## Instructor: **Abdullah Bin Zarshaid**\n",
    "**Lecturer** **FCSE**\n",
    "\n",
    "\n"
   ]
  },
  {
   "cell_type": "markdown",
   "id": "edb26244",
   "metadata": {},
   "source": [
    "## Session 1 Topics:\n",
    "\n",
    "1. What you can do with Python? \n",
    "2. First Python Program \n",
    "3. About Programming Languages\n",
    "4. About Python in Brief\n",
    "5. Understanding First Code\n",
    "6. Indentation in Python\n",
    "7. Comments in Python\n",
    "8. Modules and import statement\n",
    "9. Variables\n",
    "10. Type-Casting\n",
    "11. Strings\n",
    "12. Operators\n",
    "13. Lists\n",
    "14. Tuples\n",
    "15. Sets = In **Session 2**\n",
    "16. Dictionary = In **Session 2**\n",
    "17. Conditional Statements\n",
    "18. Loops (Break and Continue also)"
   ]
  },
  {
   "cell_type": "markdown",
   "id": "66d8b320",
   "metadata": {},
   "source": [
    "## What is Programming?\n",
    "#### Just like we use Hindi or English to communicate with each other, we use a Programming language to communicate with the computer.\n",
    "\n",
    "### Programming is a way to instruct the computer to perform various tasks.\n",
    "\n",
    "### What is Python?\n",
    "#### Python is a simple and easy-to-understand language that feels like reading simple English. This Pseudo code nature of Python makes it easy to learn and understandable for beginners.\n",
    "\n",
    "## Features of Python:\n",
    "### Easy to understand = Less development time\n",
    "### Free and open source\n",
    "### High-level language\n",
    "### Portable – works on Windows/Linux/Mac\n",
    "+ Fun to work with :)"
   ]
  },
  {
   "cell_type": "markdown",
   "id": "889a6e91",
   "metadata": {},
   "source": [
    "## Python in Brief :\n",
    "### Python is a high-level, general-purpose programming language. Python use interpreter as its language processor.\n",
    "### Python is used to develop GUI Programs, Web Applications, websites, Games, scripts, etc. and python is even used in networking and all. Python is even used to do photo editing, video editing and other type of general purpose work.\n",
    "### This programming language is used mostly everywhere in tech field. It is used in Data Science, AI, Machine learning etc. \n",
    "\n",
    "\n",
    "\n",
    "\n",
    "\n",
    "\n",
    "**____________________________________________**"
   ]
  },
  {
   "cell_type": "markdown",
   "id": "9ea0c828",
   "metadata": {},
   "source": [
    "### Writing Our First Python Program"
   ]
  },
  {
   "cell_type": "code",
   "execution_count": 1,
   "id": "384a85cb",
   "metadata": {},
   "outputs": [
    {
     "name": "stdout",
     "output_type": "stream",
     "text": [
      "Hello World\n"
     ]
    }
   ],
   "source": [
    "print(\"Hello World\")"
   ]
  },
  {
   "cell_type": "markdown",
   "id": "0e02f212",
   "metadata": {},
   "source": [
    " In this function, whatever we pass in parenthesis () in a double quote or single quote gets printed (as it is) in the terminal.\n",
    "\n",
    "So, in print function when we use “” (Double Quotes) it means anything enclosed in double quotes will be displayed as it is and is known as string.\n",
    "\n",
    "String is a data type in Python which is related to text. And to make string just enclose that part in either (‘’) Single or (“”) Double quotes"
   ]
  },
  {
   "cell_type": "code",
   "execution_count": 2,
   "id": "2dc6dd67",
   "metadata": {},
   "outputs": [
    {
     "name": "stdout",
     "output_type": "stream",
     "text": [
      "Hello world! I am learning Python ABDULLAH BIN ZARSHAID!\n"
     ]
    }
   ],
   "source": [
    "print(\"Hello world! I am learning Python ABDULLAH BIN ZARSHAID!\")"
   ]
  },
  {
   "cell_type": "markdown",
   "id": "b1c38f0a",
   "metadata": {},
   "source": [
    "## Comments, Escape Sequences & Print Statement"
   ]
  },
  {
   "cell_type": "markdown",
   "id": "dbdb55b6",
   "metadata": {},
   "source": [
    "### Comments are used to write something which the programmer does not want to execute. Comments can be written to mark the author's name, date when the program is written, adding notes for your future self, etc.\n",
    "\n",
    "Comments are the code which is not executed while interpreting the code. Comments are used to make the code more understandable for the programmer. \n",
    "\n",
    "## There are two types of comments in Python :-\n",
    "\n",
    "·      Single Line Comments\n",
    "\n",
    "·      Multi-Line Comments\n",
    "\n",
    "Single Line comment is the comments which are created in single line only i.e. they occupy the space of single line only.\n",
    "\n",
    "### These are created using # (Hash/Pound Symbol) in Python.\n",
    "\n",
    "Multi-Line comments are the comments which are created by using multiple lines i.e. they occupy more than one line in the program.\n",
    "\n",
    "### These are created using triple quotes (‘’’ Comment Code ‘’’) in Python.\n"
   ]
  },
  {
   "cell_type": "code",
   "execution_count": 4,
   "id": "5400b8a2",
   "metadata": {},
   "outputs": [
    {
     "name": "stdout",
     "output_type": "stream",
     "text": [
      "Hello Everyone\n",
      "Hope you understood about comments\n"
     ]
    }
   ],
   "source": [
    "#It's a single line comment\n",
    "\n",
    "print(\"Hello Everyone\")\n",
    "\n",
    "'''\n",
    "It's a multi\n",
    "line\n",
    "comment\n",
    "'''\n",
    "\n",
    "print(\"Hope you understood about comments\")"
   ]
  },
  {
   "cell_type": "code",
   "execution_count": 3,
   "id": "92772203",
   "metadata": {},
   "outputs": [
    {
     "name": "stdout",
     "output_type": "stream",
     "text": [
      "Abdullah is a programmer\n",
      "88\n"
     ]
    }
   ],
   "source": [
    "# print statement for printing strings\n",
    "print(\"Abdullah is a programmer\")\n",
    "\n",
    "# Print statement with a literal\n",
    "print(1+87)\n",
    "\n",
    "\n",
    "\n",
    "#This will print \"Abdullah is a programmer\" and 88 on the screen respectively!"
   ]
  },
  {
   "cell_type": "markdown",
   "id": "9da3c174",
   "metadata": {},
   "source": [
    "#### end: end argument allows us to put something at the end of the line after it is printed. In simple words, it allows us to continue the line with \" \" or ',' or anything we want to put inside these quotes of the end.\n",
    "\n",
    "**It simply joins two different print statements using some string or even by space. Example:**"
   ]
  },
  {
   "cell_type": "code",
   "execution_count": 9,
   "id": "e22e62ef",
   "metadata": {},
   "outputs": [
    {
     "name": "stdout",
     "output_type": "stream",
     "text": [
      "Harry is a programmer 80+2\n"
     ]
    }
   ],
   "source": [
    "# print statement for printing strings\n",
    "print(\"Abdullah is a programmer\", end=\" \")\n",
    "\n",
    "# Print statement with a literal\n",
    "print(\"80+2\")\n",
    "\n",
    "#This will print \"Abdullah is a programmer**88\" on the screen "
   ]
  },
  {
   "cell_type": "markdown",
   "id": "5483898f",
   "metadata": {},
   "source": [
    "### Escape Sequences :\n",
    "##### An Escape Sequence character in Python is a sequence of characters that represents a single character.\n",
    "It doesn't represent itself when used inside string literal or character.\n",
    "It is composed of two or more characters starting with backslash \\ but acts as a single character. Example \\n depicts a new line character.\n",
    "Some more examples of escape sequence characters are shown below:\n",
    "\n",
    "##### Commonly Used Escape Sequences:\n",
    "**Escape Sequences**\t   **Description** \n",
    "1) \\n                  Inserts a new line in the text at the point\n",
    "\n",
    "2) \\\\\t               Inserts a backslash character in the text at the point\n",
    "\n",
    "3) \\\"\t               Inserts a double quote character in the text at that point\n",
    "\n",
    "4) \\'\t               Inserts a single quote character in the text at that point\n",
    "\n",
    "5) \\t\t               Inserts a tab in the text at that point\n",
    "\n",
    "6) \\f\t               Inserts a form feed ln the text at that point\n",
    "\n",
    "7) \\r\t               Inserts a carriage return in the text at that point\n",
    "\n",
    "8) \\b\t               Inserts a backspace in the text at that point\n",
    " "
   ]
  },
  {
   "cell_type": "code",
   "execution_count": 14,
   "id": "c14dd1ce",
   "metadata": {},
   "outputs": [
    {
     "name": "stdout",
     "output_type": "stream",
     "text": [
      "Subscribe now giki is awesome place \\ \n",
      "next line\n",
      "C:'Pakistan\n",
      "Abdullah is \n",
      " good boy \t1\n"
     ]
    }
   ],
   "source": [
    "#Please dont remove this line\n",
    "\"\"\"\n",
    "This is a\n",
    "Multiline Comment\n",
    "\"\"\"\n",
    "\"\"\"\n",
    "This is a comment\n",
    "\"\"\"\n",
    "print(\"Subscribe now\",\"giki is awesome place \\\\ \")\n",
    "print(\"next line\")\n",
    "print(\"C:\\'Pakistan\")\n",
    "print(\"Abdullah is \\n good boy \\t1\") #comment after statement\n",
    "\n"
   ]
  },
  {
   "cell_type": "markdown",
   "id": "7e4c7645",
   "metadata": {},
   "source": [
    "## Indentation in Python :\n",
    "### There are 3 types of statements in Python :-\n",
    "\n",
    "1) Simple Statement\n",
    "2) Empty Statement\n",
    "3) Complex Statement\n",
    "\n",
    "**In Complex statements there are two portions, header and body.**"
   ]
  },
  {
   "cell_type": "code",
   "execution_count": 17,
   "id": "fc4651a8",
   "metadata": {},
   "outputs": [
    {
     "name": "stdout",
     "output_type": "stream",
     "text": [
      "5 is greater than 4\n",
      "Got it!\n"
     ]
    }
   ],
   "source": [
    "if (5>4): #This is the header part\n",
    "    print(\"5 is greater than 4\") #This is body part\n",
    "    print(\"Got it!\")\n",
    "\n",
    "else:  #This is the header part\n",
    "    print(\"Bye guys!\")  #This is body part"
   ]
  },
  {
   "cell_type": "markdown",
   "id": "a2bfd357",
   "metadata": {},
   "source": [
    "#### So, indentation means leaving a TAB space from margin and in python it is used to show that statements which are indented belong to upper statement.\n",
    "\n",
    "#### In statements like if, if-else, elif, for etc. we use indentation because these all are type of complex statements and they have two parts as I already told you header and body.\n",
    "\n",
    "#### We have to indent our body statements to show that these are sub-statements of our main statements which is written in header portion."
   ]
  },
  {
   "cell_type": "code",
   "execution_count": 16,
   "id": "d82fbabf",
   "metadata": {},
   "outputs": [
    {
     "name": "stdout",
     "output_type": "stream",
     "text": [
      "1\n",
      "2\n",
      "3\n",
      "4\n",
      "5\n",
      "6\n",
      "7\n",
      "8\n",
      "9\n",
      "10\n"
     ]
    }
   ],
   "source": [
    "i = 0\n",
    "\n",
    "while (i<10) : #This is a header part\n",
    "    print(i+1) #This is a body part\n",
    "    i=i+1"
   ]
  },
  {
   "cell_type": "markdown",
   "id": "cce64062",
   "metadata": {},
   "source": [
    "## Modules and Import Statements:\n",
    "### Module – Module or library is the file which contain definitions of several functions, classes, variables, etc. which are written by someone else for free use.\n",
    "\n",
    "##### Modules are used in code when we want to do some work and that work is already done by someone else and available in any module then we can simply import that module and can use that code in our program.\n",
    "\n",
    "##### There are many modules in Python which can be downloaded from internet and can be used in our python program.\n",
    "\n",
    "## Pip= Pip is a package manager for python. You can use pip to install a module on your system.\n",
    "\n",
    "#### E.g., pip install flask (It will install flask module in your system)\n",
    "\n",
    "### Types of modules\n",
    "There are two types of modules in Python:\n",
    "\n",
    "### Built-in modules – Pre-installed in Python\n",
    "### External modules – Need to install using pip\n",
    "\n",
    "##### Some examples of built-in modules are os, abc, etc.\n",
    "\n",
    "### Some examples of external modules are TensorFlow, flask, etc.\n",
    "\n",
    "\n",
    "##### And there are some built-in modules also which are available to use when we are offline."
   ]
  },
  {
   "cell_type": "code",
   "execution_count": null,
   "id": "db88cfbc",
   "metadata": {},
   "outputs": [],
   "source": [
    "import math #Here we have imported a built-in module 'math'\n",
    "\n",
    "print(\"Here we will use some math functions\")\n",
    "a = 2\n",
    "b = 4\n",
    "c = math.sqrt(16)\n",
    "d = math.pow(a,b)\n",
    "print(c)\n",
    "print(d)"
   ]
  },
  {
   "cell_type": "markdown",
   "id": "6cd44511",
   "metadata": {},
   "source": [
    "#### So, in above code as you can see we have downloaded a module named as opencv-python. So that’s how you can download module"
   ]
  },
  {
   "cell_type": "code",
   "execution_count": null,
   "id": "e30c0bc6",
   "metadata": {},
   "outputs": [],
   "source": [
    "#pip install __module__name"
   ]
  },
  {
   "cell_type": "markdown",
   "id": "29ebb8cb",
   "metadata": {},
   "source": [
    "#### And After downloading modules you have to simple import them or use them in your program.\n",
    "\n",
    "#### So, to do so simply type:  import _module_name  in your code.\n",
    "\n",
    "#### That’s how you can use module in your programs."
   ]
  }
 ],
 "metadata": {
  "kernelspec": {
   "display_name": "Python 3 (ipykernel)",
   "language": "python",
   "name": "python3"
  },
  "language_info": {
   "codemirror_mode": {
    "name": "ipython",
    "version": 3
   },
   "file_extension": ".py",
   "mimetype": "text/x-python",
   "name": "python",
   "nbconvert_exporter": "python",
   "pygments_lexer": "ipython3",
   "version": "3.11.0"
  }
 },
 "nbformat": 4,
 "nbformat_minor": 5
}
