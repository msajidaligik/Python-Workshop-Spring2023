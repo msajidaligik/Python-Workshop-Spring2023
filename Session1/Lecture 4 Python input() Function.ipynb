{
 "cells": [
  {
   "cell_type": "markdown",
   "id": "a4969685",
   "metadata": {},
   "source": [
    "## Python input() Function\n",
    "\n",
    "Definition and Usage\n",
    "The input() function allows user input.\n",
    "\n",
    "input() Function – This function allows the user to receive input from the keyboard into the program as a string.\n",
    "\n",
    "#### input() function always takes input as a string, i.e., if we ask the user to take a number as input, even then, it will take it as a string, and we will have to typecast it into another data type as per the use case.\n",
    "\n",
    "\n",
    "#### If you enter 45 when the input() is called, you will get \"45\" as a string"
   ]
  },
  {
   "cell_type": "code",
   "execution_count": null,
   "id": "6f36b937",
   "metadata": {},
   "outputs": [],
   "source": [
    "# Input Function in Python:\n",
    "print(\"Enter your name : \")\n",
    "name = input() #It will take input from user\n",
    "print(\"Your Name is\",name) # It will show the name \n",
    "xyz = input(\"Enter your age\")\n",
    "print(\"Your age is \",xyz)\n"
   ]
  },
  {
   "cell_type": "code",
   "execution_count": null,
   "id": "079203d4",
   "metadata": {},
   "outputs": [],
   "source": [
    "# Quick Quiz: Create a program that takes two numbers as input from the user and then prints the sum of these numbers."
   ]
  },
  {
   "cell_type": "code",
   "execution_count": null,
   "id": "cac79b9a",
   "metadata": {},
   "outputs": [],
   "source": [
    "# Quiz : \n",
    "print(\"Enter First Number : \")\n",
    "num1= input()\n",
    "print(\"Enter Second Number : \")\n",
    "num2=input()\n",
    "print(\"The Sum is\",num2) #It will give output as sum of two numbers."
   ]
  },
  {
   "cell_type": "code",
   "execution_count": null,
   "id": "8b366967",
   "metadata": {},
   "outputs": [],
   "source": [
    "var1 = \"54\"\n",
    "var4 = \"32\"\n",
    "var2 = 4\n",
    "var3 = 36.7\n",
    "# print(100 * str(int(var1) + int(var4)) )\n",
    "# print(100 * \"Hello world\\n\")\n",
    "# print(\"Enter your number\")\n",
    "# inpnum = input()\n",
    "#\n",
    "# print(\"You entered\", int(inpnum)+10)\n",
    "\"\"\"\n",
    "str()\n",
    "int()\n",
    "float()\n",
    "\"\"\"\n",
    "\n",
    "\n",
    "# print(type(var1))\n",
    "\n",
    "print(\"Enter first number\")\n",
    "n1 = input()\n",
    "print(\"Enter second number\")\n",
    "n2 = input()\n",
    "print(\"Sum of these two numbers is\", int(n1) + int(n2))\n"
   ]
  },
  {
   "cell_type": "code",
   "execution_count": null,
   "id": "5704b697",
   "metadata": {},
   "outputs": [],
   "source": [
    "print(\"Enter first number\")\n",
    "n1= int(input())\n",
    "print(\"Enter second number\")\n",
    "n2= int(input())\n",
    "print(\"Sum of these two numbers is\", n1 + n2)"
   ]
  },
  {
   "cell_type": "code",
   "execution_count": null,
   "id": "177b6da2",
   "metadata": {},
   "outputs": [],
   "source": []
  }
 ],
 "metadata": {
  "kernelspec": {
   "display_name": "Python 3 (ipykernel)",
   "language": "python",
   "name": "python3"
  },
  "language_info": {
   "codemirror_mode": {
    "name": "ipython",
    "version": 3
   },
   "file_extension": ".py",
   "mimetype": "text/x-python",
   "name": "python",
   "nbconvert_exporter": "python",
   "pygments_lexer": "ipython3",
   "version": "3.11.0"
  }
 },
 "nbformat": 4,
 "nbformat_minor": 5
}
