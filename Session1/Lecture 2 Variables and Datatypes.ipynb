{
 "cells": [
  {
   "cell_type": "markdown",
   "id": "2cff98a9",
   "metadata": {},
   "source": [
    "# Variables, Datatypes and Typecasting\n",
    "\n",
    "## 1) Variable: A variable is a name given to any storage area or memory location in a program.\n",
    "\n",
    "#### In simple words, we can say that a variable is a container that contains some information, and whenever we need that information, we use the name of that container to access it. \n",
    "\n",
    "###### Let's create a variable:"
   ]
  },
  {
   "cell_type": "code",
   "execution_count": null,
   "id": "f82ffac4",
   "metadata": {},
   "outputs": [],
   "source": [
    "a = 34 # Variable storing an integer\n",
    "b = 23.2 # Variable storing real number\n",
    "\n",
    "# Here a and b are variables, and we can use a to access 34 and b to access 23.2. We can also overwrite the values in a and b"
   ]
  },
  {
   "cell_type": "markdown",
   "id": "6f560059",
   "metadata": {},
   "source": [
    "#### Rules for defining a variable in Python:\n",
    "1) A variable name can contain alphabets, digits, and underscores (_). For E.g. : demo_xyz = ‘It’s a string variable’\n",
    "2) A variable name can only start with an alphabet and underscore.\n",
    "3) It can't start with a digit. For example, 5harry is illegal and not allowed.\n",
    "4) No white space is allowed to be used inside a variable name.\n",
    "5) Also, reserved keywords are not recommended to be used as variable names.\n",
    "\n",
    "### Examples of few valid variable names are harry, _demo, de_mo, etc.\n",
    "\n",
    "# Python is a fantastic language that automatically identifies the type of data for us. It means we need to put some data in a variable, and Python automatically understands the kind of data a variable is holding. Cool, isn't it?\n",
    "\n",
    "#### Have a look at the code below:"
   ]
  },
  {
   "cell_type": "code",
   "execution_count": null,
   "id": "4a16ea45",
   "metadata": {},
   "outputs": [],
   "source": [
    "# Variable in Python:\n",
    "\n",
    "abc = \"It's a string variable\"\n",
    "\n",
    "_abcnum = 40 # It is an example of int variable\n",
    "\n",
    "abc123 = 55.854 # It is an example of float variable\n",
    "\n",
    "print(_abcnum + abc123) # This will give sum of 40 + 55.854"
   ]
  },
  {
   "cell_type": "markdown",
   "id": "824acfa6",
   "metadata": {},
   "source": [
    "Variable – Container to store a value\n",
    "\n",
    "Keywords – Reserved words in Python\n",
    "\n",
    "Identifiers – class/function/variable name"
   ]
  },
  {
   "cell_type": "markdown",
   "id": "aecb72da",
   "metadata": {},
   "source": [
    "# 2) Data Types\n",
    "\n",
    "## Built-in Data Types\n",
    "#### In programming, data type is an important concept.\n",
    "\n",
    "#### Variables can store data of different types, and different types can do different things.\n",
    "\n",
    "### Python has the following data types built-in by default, in these categories:\n",
    "\n",
    "1) Text Type:\tstr\n",
    "2) Numeric Types:\tint, float, complex\n",
    "3) Sequence Types:\tlist, tuple, range\n",
    "4) Mapping Type:\tdict\n",
    "5) Set Types:\tset, frozenset\n",
    "6) Boolean Type:\tbool\n",
    "7) Binary Types:\tbytes, bytearray, memoryview\n",
    "9) None Type:\tNoneType"
   ]
  },
  {
   "cell_type": "markdown",
   "id": "87e8c7df",
   "metadata": {},
   "source": [
    "### Setting the Data Type\n",
    "#### In Python, the data type is set when you assign a value to a variable\n",
    "\n",
    "Example\tData Type: \n",
    "\n",
    "x = \"Hello World\"\tstr\t\n",
    "x = 20\tint\t\n",
    "x = 20.5\tfloat\t\n",
    "x = 1j\tcomplex\t\n",
    "x = [\"apple\", \"banana\", \"cherry\"]\tlist\t\n",
    "x = (\"apple\", \"banana\", \"cherry\")\ttuple\t\n",
    "x = range(6)\trange\t\n",
    "x = {\"name\" : \"John\", \"age\" : 36}\tdict\t\n",
    "x = {\"apple\", \"banana\", \"cherry\"}\tset\t\n",
    "x = frozenset({\"apple\", \"banana\", \"cherry\"})\tfrozenset\t\n",
    "x = True\tbool\t\n",
    "x = b\"Hello\"\tbytes\t\n",
    "x = bytearray(5)\tbytearray\t\n",
    "x = memoryview(bytes(5))\tmemoryview\t\n",
    "x = None\tNoneType"
   ]
  },
  {
   "cell_type": "markdown",
   "id": "5b00d675",
   "metadata": {},
   "source": [
    "### Setting the Specific Data Type\n",
    "##### If you want to specify the data type, you can use the following constructor functions:\n",
    "\n",
    "Example\tData Type:\n",
    "x = str(\"Hello World\")\t\n",
    "x = int(20)\t\n",
    "x = float(20.5)\t\t\n",
    "x = complex(1j)\t\t\n",
    "x = list((\"apple\", \"banana\", \"cherry\"))\t\n",
    "x = tuple((\"apple\", \"banana\", \"cherry\"))\t\t\n",
    "x = range(6)\t\n",
    "x = dict(name=\"John\", age=36)\t\n",
    "x = set((\"apple\", \"banana\", \"cherry\"))\t\n",
    "x = frozenset((\"apple\", \"banana\", \"cherry\"))\t\n",
    "x = bool(5)\t\n",
    "x = bytes(5)\t\n",
    "x = bytearray(5)\t\n",
    "x = memoryview(bytes(5))\t"
   ]
  },
  {
   "cell_type": "markdown",
   "id": "a2446c93",
   "metadata": {},
   "source": [
    "### Getting the Data Type\n",
    "#### You can get the data type of any object by using the type() function:\n",
    "\n",
    "type() Function in Python: type() function is a function that allows a user to find data type of any variable. It returns the data type of any data contained in the variable passed to it.\n",
    "Have a look at the code below, which depicts the use of type function:"
   ]
  },
  {
   "cell_type": "code",
   "execution_count": 1,
   "id": "6f30d7e5",
   "metadata": {},
   "outputs": [
    {
     "name": "stdout",
     "output_type": "stream",
     "text": [
      "<class 'int'>\n"
     ]
    }
   ],
   "source": [
    "x = 5\n",
    "print(type(x))"
   ]
  },
  {
   "cell_type": "code",
   "execution_count": null,
   "id": "534946af",
   "metadata": {},
   "outputs": [],
   "source": [
    "# type() Function in Python:\n",
    "harry = \"40\" \n",
    "demo1 = 55.5 \n",
    "demo2 = 40 \n",
    "print (type(harry)) #It will give output as string type \n",
    "demo3 = type(demo1) #It will return data type as float \n",
    "print(demo3) #It will print that data type \n",
    "print(type(demo2)) #It will give output as int type  \n"
   ]
  },
  {
   "cell_type": "markdown",
   "id": "b833ed0d",
   "metadata": {},
   "source": [
    "### Type-Casting:\n",
    "\n",
    "###### Type-casting is defined as converting one data type into another for smooth functioning of program.\n",
    "\n",
    "###### Typecasting is the way to change one data type of any data or variable to another datatype, i.e., it changes the data type of any variable to some other data type.\n",
    "\n",
    "Suppose there is a string \"34\" Note: String is not integer since it is enclosed in double-quotes) and as we know, we can't add this to an integer number, let's say 6. \n",
    "\n",
    "But to do so, we can typecast this string to int data type, and then we can add 34+6 to get the output as 40. Have a look at the program below:\n",
    "\n",
    "\n",
    "https://www.w3schools.com/python/python_casting.asp"
   ]
  },
  {
   "cell_type": "code",
   "execution_count": null,
   "id": "2c38912e",
   "metadata": {},
   "outputs": [],
   "source": [
    "# Typecasting in Python :\n",
    "abc = 5 \n",
    "abc2 = '45'\n",
    "abc3 = 55.95\n",
    "xyz = 5.0\n",
    "\n",
    "abc4=int(abc2)\n",
    "\n",
    "print(abc+abc4) # Output : 50 \n",
    "print(abc+int(abc2)) # Output : 50 \n",
    "\n",
    "print(float(abc)+xyz) # It will add 5.0 + 5.0 and will return 10.0\n",
    "\n",
    "print(str(abc)+45) # It will give an error as abc has been changed into string."
   ]
  },
  {
   "cell_type": "markdown",
   "id": "8eaac021",
   "metadata": {},
   "source": [
    "There are many functions to convert one data type into another type :\n",
    "\n",
    "str() – this function allows us to convert some other data type into a string.\n",
    "\n",
    "int() – this function allows us to convert some other data type into an integer. For example, str(\"34\") returns 34 which is of type integer (int)\n",
    "\n",
    "float() – this function allows us to convert some other data type into a floating-point number, i.e., a number with decimals."
   ]
  }
 ],
 "metadata": {
  "kernelspec": {
   "display_name": "Python 3 (ipykernel)",
   "language": "python",
   "name": "python3"
  },
  "language_info": {
   "codemirror_mode": {
    "name": "ipython",
    "version": 3
   },
   "file_extension": ".py",
   "mimetype": "text/x-python",
   "name": "python",
   "nbconvert_exporter": "python",
   "pygments_lexer": "ipython3",
   "version": "3.11.0"
  }
 },
 "nbformat": 4,
 "nbformat_minor": 5
}
